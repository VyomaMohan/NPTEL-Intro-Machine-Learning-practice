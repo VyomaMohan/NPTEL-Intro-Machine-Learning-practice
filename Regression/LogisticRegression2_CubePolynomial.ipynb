{
 "cells": [
  {
   "cell_type": "code",
   "execution_count": 543,
   "metadata": {},
   "outputs": [],
   "source": [
    "from sklearn import datasets,linear_model\n",
    "from sklearn.preprocessing import PolynomialFeatures\n",
    "import matplotlib.pyplot as plt\n",
    "import numpy as np"
   ]
  },
  {
   "cell_type": "code",
   "execution_count": 544,
   "metadata": {},
   "outputs": [
    {
     "name": "stdout",
     "output_type": "stream",
     "text": [
      "[ 0.  1.  2.  3.  4.  5.  6.  7.  8.  9. 10. 11. 12. 13. 14. 15. 16. 17.\n",
      " 18. 19.]\n",
      "[1.000e+00 2.000e+00 9.000e+00 2.800e+01 6.500e+01 1.260e+02 2.170e+02\n",
      " 3.440e+02 5.130e+02 7.300e+02 1.001e+03 1.332e+03 1.729e+03 2.198e+03\n",
      " 2.745e+03 3.376e+03 4.097e+03 4.914e+03 5.833e+03 6.860e+03]\n"
     ]
    }
   ],
   "source": [
    "#Trying to predict for the polynomial equation (x^3)+1\n",
    "\n",
    "#Creating the training dataset\n",
    "x_train=np.array([])\n",
    "y_train=np.array([])\n",
    "for i in range(0,20):\n",
    "    x_train=np.append(x_train,i)\n",
    "    y_train=np.append(y_train,(i*i*i)+1)\n",
    "\n",
    "print(x_train)\n",
    "print(y_train)"
   ]
  },
  {
   "cell_type": "code",
   "execution_count": 545,
   "metadata": {},
   "outputs": [],
   "source": [
    "#Indicating that dimensions may be added to these arrays\n",
    "x_train=x_train[:,np.newaxis]\n",
    "y_train=y_train[:,np.newaxis]"
   ]
  },
  {
   "cell_type": "code",
   "execution_count": 546,
   "metadata": {},
   "outputs": [
    {
     "name": "stdout",
     "output_type": "stream",
     "text": [
      "1.000000 0.000000 0.000000 0.000000 0.000000 \n",
      "\n",
      "1.000000 1.000000 1.000000 1.000000 1.000000 \n",
      "\n",
      "1.000000 2.000000 4.000000 8.000000 16.000000 \n",
      "\n",
      "1.000000 3.000000 9.000000 27.000000 81.000000 \n",
      "\n",
      "1.000000 4.000000 16.000000 64.000000 256.000000 \n",
      "\n",
      "1.000000 5.000000 25.000000 125.000000 625.000000 \n",
      "\n",
      "1.000000 6.000000 36.000000 216.000000 1296.000000 \n",
      "\n",
      "1.000000 7.000000 49.000000 343.000000 2401.000000 \n",
      "\n",
      "1.000000 8.000000 64.000000 512.000000 4096.000000 \n",
      "\n",
      "1.000000 9.000000 81.000000 729.000000 6561.000000 \n",
      "\n",
      "1.000000 10.000000 100.000000 1000.000000 10000.000000 \n",
      "\n",
      "1.000000 11.000000 121.000000 1331.000000 14641.000000 \n",
      "\n",
      "1.000000 12.000000 144.000000 1728.000000 20736.000000 \n",
      "\n",
      "1.000000 13.000000 169.000000 2197.000000 28561.000000 \n",
      "\n",
      "1.000000 14.000000 196.000000 2744.000000 38416.000000 \n",
      "\n",
      "1.000000 15.000000 225.000000 3375.000000 50625.000000 \n",
      "\n",
      "1.000000 16.000000 256.000000 4096.000000 65536.000000 \n",
      "\n",
      "1.000000 17.000000 289.000000 4913.000000 83521.000000 \n",
      "\n",
      "1.000000 18.000000 324.000000 5832.000000 104976.000000 \n",
      "\n",
      "1.000000 19.000000 361.000000 6859.000000 130321.000000 \n",
      "\n"
     ]
    }
   ],
   "source": [
    "#Using polynomial features to produce the different powers of x.\n",
    "polynomialfeatures=PolynomialFeatures(degree=4)\n",
    "x_poly=polynomialfeatures.fit_transform(x_train)\n",
    "for i in x_poly:\n",
    "    for j in i:\n",
    "        print('%f ' %j,end='')\n",
    "    print(\"\\n\")"
   ]
  },
  {
   "cell_type": "code",
   "execution_count": 547,
   "metadata": {},
   "outputs": [
    {
     "data": {
      "text/plain": [
       "LinearRegression(copy_X=True, fit_intercept=True, n_jobs=None, normalize=False)"
      ]
     },
     "execution_count": 547,
     "metadata": {},
     "output_type": "execute_result"
    }
   ],
   "source": [
    "#Giving the above polynomial features to the model to train.\n",
    "#It will find the coeffs in a(x^3)+b(x^2)+cx+d\n",
    "\n",
    "model=linear_model.LinearRegression()\n",
    "model.fit(x_poly,y_train)"
   ]
  },
  {
   "cell_type": "code",
   "execution_count": 548,
   "metadata": {},
   "outputs": [
    {
     "name": "stdout",
     "output_type": "stream",
     "text": [
      "Predicted answer:\n",
      "[[3376.]]\n",
      "Actual answer:\n",
      "3376\n"
     ]
    }
   ],
   "source": [
    "#Testing out the model by giving it a number to find the answer to.\n",
    "num=15\n",
    "qarray=np.array([[num]])\n",
    "qpoly=polynomialfeatures.fit_transform(qarray)\n",
    "ans=model.predict(qpoly)\n",
    "print(\"Predicted answer:\")\n",
    "print(ans)\n",
    "print(\"Actual answer:\")\n",
    "print(num*num*num+1)"
   ]
  },
  {
   "cell_type": "code",
   "execution_count": 549,
   "metadata": {},
   "outputs": [
    {
     "data": {
      "image/png": "[encoded data removed]",
      "text/plain": [
       "<Figure size 432x288 with 1 Axes>"
      ]
     },
     "metadata": {
      "needs_background": "light"
     },
     "output_type": "display_data"
    }
   ],
   "source": [
    "#Taking points from 1-30 to plot the graph.\n",
    "\n",
    "x_plot=np.linspace(1,30,30)\n",
    "x_plot=np.array(x_plot)\n",
    "x_plot=x_plot[:,np.newaxis]\n",
    "\n",
    "x_plot_poly=polynomialfeatures.fit_transform(x_plot)\n",
    "\n",
    "y_plot=model.predict(x_plot_poly)\n",
    "\n",
    "plt.plot(x_plot,y_plot)\n",
    "plt.title(\"Plot of the required function:\")\n",
    "plt.show()"
   ]
  }
 ],
 "metadata": {
  "kernelspec": {
   "display_name": "Python 3",
   "language": "python",
   "name": "python3"
  },
  "language_info": {
   "codemirror_mode": {
    "name": "ipython",
    "version": 3
   },
   "file_extension": ".py",
   "mimetype": "text/x-python",
   "name": "python",
   "nbconvert_exporter": "python",
   "pygments_lexer": "ipython3",
   "version": "3.7.4"
  }
 },
 "nbformat": 4,
 "nbformat_minor": 2
}
