{
 "cells": [
  {
   "cell_type": "code",
   "execution_count": 470,
   "metadata": {},
   "outputs": [],
   "source": [
    "from sklearn import datasets,linear_model\n",
    "import matplotlib.pyplot as plt\n",
    "import numpy as np"
   ]
  },
  {
   "cell_type": "code",
   "execution_count": 471,
   "metadata": {},
   "outputs": [
    {
     "name": "stdout",
     "output_type": "stream",
     "text": [
      "150\n"
     ]
    }
   ],
   "source": [
    "data=datasets.load_iris()\n",
    "\n",
    "#Can be used to slice specific features out of the data. Here, all 4 are used\n",
    "x=data.data[:,:4]\n",
    "\n",
    "#Attribute used as result that is kept seperately\n",
    "y=data.target\n",
    "\n",
    "total_no_samples=len(y)\n",
    "\n",
    "print(total_no_samples)"
   ]
  },
  {
   "cell_type": "code",
   "execution_count": 472,
   "metadata": {},
   "outputs": [
    {
     "name": "stdout",
     "output_type": "stream",
     "text": [
      "[[6.4 3.1 5.5 1.8]\n",
      " [5.6 3.  4.5 1.5]\n",
      " [5.  2.  3.5 1. ]\n",
      " [5.3 3.7 1.5 0.2]\n",
      " [4.6 3.2 1.4 0.2]\n",
      " [5.8 2.7 4.1 1. ]\n",
      " [6.4 3.2 4.5 1.5]\n",
      " [6.8 3.2 5.9 2.3]\n",
      " [5.6 3.  4.1 1.3]\n",
      " [5.4 3.9 1.7 0.4]\n",
      " [6.  3.  4.8 1.8]\n",
      " [5.2 3.4 1.4 0.2]\n",
      " [5.5 2.6 4.4 1.2]\n",
      " [5.5 2.4 3.8 1.1]\n",
      " [6.5 3.  5.8 2.2]\n",
      " [4.9 3.6 1.4 0.1]\n",
      " [7.  3.2 4.7 1.4]\n",
      " [5.7 4.4 1.5 0.4]\n",
      " [6.2 2.8 4.8 1.8]\n",
      " [6.3 2.8 5.1 1.5]\n",
      " [5.8 4.  1.2 0.2]\n",
      " [4.9 2.5 4.5 1.7]\n",
      " [6.2 2.2 4.5 1.5]\n",
      " [5.2 3.5 1.5 0.2]\n",
      " [7.2 3.2 6.  1.8]\n",
      " [6.4 2.8 5.6 2.1]\n",
      " [4.4 3.2 1.3 0.2]\n",
      " [4.9 3.  1.4 0.2]\n",
      " [7.4 2.8 6.1 1.9]\n",
      " [4.8 3.4 1.9 0.2]\n",
      " [5.7 3.8 1.7 0.3]\n",
      " [4.9 3.1 1.5 0.1]\n",
      " [5.5 2.5 4.  1.3]\n",
      " [4.4 3.  1.3 0.2]\n",
      " [6.1 3.  4.9 1.8]\n",
      " [5.  3.6 1.4 0.2]\n",
      " [6.6 3.  4.4 1.4]\n",
      " [5.5 2.4 3.7 1. ]\n",
      " [6.3 2.5 5.  1.9]\n",
      " [4.6 3.4 1.4 0.3]\n",
      " [4.8 3.  1.4 0.3]\n",
      " [7.7 2.8 6.7 2. ]\n",
      " [5.1 3.5 1.4 0.2]\n",
      " [5.8 2.7 5.1 1.9]\n",
      " [5.7 2.5 5.  2. ]\n",
      " [5.1 3.8 1.5 0.3]\n",
      " [5.4 3.7 1.5 0.2]\n",
      " [6.3 2.9 5.6 1.8]\n",
      " [6.3 2.3 4.4 1.3]\n",
      " [6.9 3.1 5.4 2.1]\n",
      " [5.9 3.  5.1 1.8]\n",
      " [6.3 2.7 4.9 1.8]\n",
      " [5.8 2.7 3.9 1.2]\n",
      " [5.5 2.3 4.  1.3]\n",
      " [5.7 3.  4.2 1.2]\n",
      " [6.  3.4 4.5 1.6]\n",
      " [5.  3.5 1.6 0.6]\n",
      " [7.1 3.  5.9 2.1]\n",
      " [6.  2.2 4.  1. ]\n",
      " [6.9 3.1 5.1 2.3]\n",
      " [5.1 3.4 1.5 0.2]\n",
      " [6.7 3.1 4.7 1.5]\n",
      " [6.1 2.6 5.6 1.4]\n",
      " [6.  2.9 4.5 1.5]\n",
      " [6.4 3.2 5.3 2.3]\n",
      " [5.6 2.5 3.9 1.1]\n",
      " [5.  3.4 1.5 0.2]\n",
      " [5.6 2.9 3.6 1.3]\n",
      " [4.7 3.2 1.3 0.2]\n",
      " [6.5 2.8 4.6 1.5]\n",
      " [5.  3.3 1.4 0.2]\n",
      " [4.3 3.  1.1 0.1]\n",
      " [6.3 3.3 4.7 1.6]\n",
      " [6.9 3.2 5.7 2.3]\n",
      " [7.2 3.  5.8 1.6]\n",
      " [6.7 3.  5.  1.7]\n",
      " [5.2 4.1 1.5 0.1]\n",
      " [5.  3.5 1.3 0.3]\n",
      " [5.  3.4 1.6 0.4]\n",
      " [6.7 2.5 5.8 1.8]\n",
      " [4.8 3.4 1.6 0.2]\n",
      " [5.8 2.6 4.  1.2]\n",
      " [6.8 2.8 4.8 1.4]\n",
      " [6.4 2.8 5.6 2.2]\n",
      " [5.7 2.8 4.1 1.3]\n",
      " [6.3 3.3 6.  2.5]\n",
      " [5.6 2.8 4.9 2. ]\n",
      " [4.7 3.2 1.6 0.2]\n",
      " [4.5 2.3 1.3 0.3]\n",
      " [6.5 3.2 5.1 2. ]\n",
      " [7.9 3.8 6.4 2. ]\n",
      " [4.9 3.1 1.5 0.2]\n",
      " [5.4 3.9 1.3 0.4]\n",
      " [6.7 3.1 5.6 2.4]\n",
      " [7.7 2.6 6.9 2.3]\n",
      " [6.3 2.5 4.9 1.5]\n",
      " [6.8 3.  5.5 2.1]\n",
      " [4.4 2.9 1.4 0.2]\n",
      " [5.5 4.2 1.4 0.2]\n",
      " [6.7 3.3 5.7 2.5]\n",
      " [6.4 2.7 5.3 1.9]\n",
      " [4.8 3.1 1.6 0.2]\n",
      " [5.8 2.8 5.1 2.4]\n",
      " [4.8 3.  1.4 0.1]\n",
      " [7.6 3.  6.6 2.1]\n",
      " [6.2 3.4 5.4 2.3]\n",
      " [5.9 3.2 4.8 1.8]\n",
      " [6.1 2.9 4.7 1.4]\n",
      " [6.1 2.8 4.7 1.2]\n",
      " [5.7 2.6 3.5 1. ]\n",
      " [5.  3.2 1.2 0.2]\n",
      " [6.3 3.4 5.6 2.4]\n",
      " [5.8 2.7 5.1 1.9]\n",
      " [5.1 3.7 1.5 0.4]\n",
      " [7.7 3.8 6.7 2.2]\n",
      " [5.2 2.7 3.9 1.4]\n",
      " [5.  2.3 3.3 1. ]\n",
      " [5.1 3.8 1.9 0.4]\n",
      " [5.1 3.5 1.4 0.3]\n",
      " [6.  2.7 5.1 1.6]]\n"
     ]
    }
   ],
   "source": [
    "random_indices=np.random.permutation(150)\n",
    "\n",
    "#Taking the first 120 items for training\n",
    "x_train=np.array(x)[random_indices[:120]]\n",
    "\n",
    "y_train=np.array(y)[random_indices[:120]]\n",
    "\n",
    "x_train_fitted=np.matrix(x_train.reshape(len(x_train),4))\n",
    "y_train_fitted=np.matrix(y_train.reshape(len(y_train),1))\n",
    "\n",
    "print(x_train_fitted)"
   ]
  },
  {
   "cell_type": "code",
   "execution_count": 473,
   "metadata": {},
   "outputs": [],
   "source": [
    "#Taking last 30 items for test\n",
    "x_test=np.array(x)[random_indices[120:]]\n",
    "y_test=np.array(y)[random_indices[120:]]"
   ]
  },
  {
   "cell_type": "code",
   "execution_count": 474,
   "metadata": {},
   "outputs": [
    {
     "data": {
      "image/png": "[encoded data removed]",
      "text/plain": [
       "<Figure size 432x288 with 1 Axes>"
      ]
     },
     "metadata": {
      "needs_background": "light"
     },
     "output_type": "display_data"
    }
   ],
   "source": [
    "#Plotting each point in different colours according to the class it belongs to.\n",
    "#For representation, using first 2 features to make a 2d graph\n",
    "for i in range (0,len(x_train)):\n",
    "    if(y_train[i]==0):\n",
    "        plt.plot(x_train[i][0],x_train[i][1],\"ro\")\n",
    "    elif(y_train[i]==1):\n",
    "        plt.plot(x_train[i][0],x_train[i][1],\"yo\")\n",
    "    else:\n",
    "        plt.plot(x_train[i][0],x_train[i][1],\"go\")\n",
    "plt.title(\"Plotting the training data using the first two features only\")\n",
    "plt.show()"
   ]
  },
  {
   "cell_type": "code",
   "execution_count": 475,
   "metadata": {},
   "outputs": [
    {
     "data": {
      "text/plain": [
       "LogisticRegression(C=1.0, class_weight=None, dual=False, fit_intercept=True,\n",
       "                   intercept_scaling=1, l1_ratio=None, max_iter=100,\n",
       "                   multi_class='auto', n_jobs=None, penalty='l2',\n",
       "                   random_state=None, solver='liblinear', tol=0.0001, verbose=0,\n",
       "                   warm_start=False)"
      ]
     },
     "execution_count": 475,
     "metadata": {},
     "output_type": "execute_result"
    }
   ],
   "source": [
    "model=linear_model.LogisticRegression(solver='liblinear',multi_class='auto')\n",
    "model.fit(x_train_fitted,y_train)"
   ]
  },
  {
   "cell_type": "code",
   "execution_count": 476,
   "metadata": {},
   "outputs": [
    {
     "name": "stdout",
     "output_type": "stream",
     "text": [
      "Predicted classes for the test set:\n",
      "[1 1 1 2 2 0 0 2 0 2 1 0 2 2 1 1 0 0 2 2 1 1 1 0 1 1 0 2 1 1]\n"
     ]
    }
   ],
   "source": [
    "x_question=np.matrix(x_test.reshape(len(x_test),4))\n",
    "\n",
    "print(\"Predicted classes for the test set:\")\n",
    "y_predicted=model.predict(x_question)\n",
    "print(y_predicted)"
   ]
  },
  {
   "cell_type": "code",
   "execution_count": 477,
   "metadata": {},
   "outputs": [
    {
     "data": {
      "image/png": "[encoded data removed]",
      "text/plain": [
       "<Figure size 432x288 with 1 Axes>"
      ]
     },
     "metadata": {
      "needs_background": "light"
     },
     "output_type": "display_data"
    },
    {
     "name": "stdout",
     "output_type": "stream",
     "text": [
      "No of errors:\n",
      "1\n"
     ]
    }
   ],
   "source": [
    "count=0\n",
    "for i in range(0,len(y_predicted)):\n",
    "    if(y_predicted[i]==y_test[i]):\n",
    "        plt.plot(x_test[i][0],x_test[i][1],'go')\n",
    "    else:\n",
    "        plt.plot(x_test[i][0],x_test[i][1],'ro')\n",
    "        count=count+1\n",
    "plt.title(\"Plotting the correct and wrong test data using first two features only\")\n",
    "plt.show()\n",
    "print(\"No of errors:\")\n",
    "print(count)"
   ]
  },
  {
   "cell_type": "code",
   "execution_count": 478,
   "metadata": {},
   "outputs": [
    {
     "name": "stdout",
     "output_type": "stream",
     "text": [
      "[[ 0.39277306  1.39238149 -2.1323638  -0.94137184]\n",
      " [ 0.50218684 -1.64724991  0.46834276 -1.24174889]\n",
      " [-1.65961457 -1.13102386  2.25781721  2.2482524 ]]\n"
     ]
    }
   ],
   "source": [
    "print(model.coef_)"
   ]
  }
 ],
 "metadata": {
  "kernelspec": {
   "display_name": "Python 3",
   "language": "python",
   "name": "python3"
  },
  "language_info": {
   "codemirror_mode": {
    "name": "ipython",
    "version": 3
   },
   "file_extension": ".py",
   "mimetype": "text/x-python",
   "name": "python",
   "nbconvert_exporter": "python",
   "pygments_lexer": "ipython3",
   "version": "3.7.4"
  }
 },
 "nbformat": 4,
 "nbformat_minor": 2
}
