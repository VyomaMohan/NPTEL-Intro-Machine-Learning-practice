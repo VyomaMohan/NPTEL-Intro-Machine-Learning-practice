{
 "cells": [
  {
   "cell_type": "code",
   "execution_count": 1,
   "metadata": {},
   "outputs": [
    {
     "name": "stderr",
     "output_type": "stream",
     "text": [
      "C:\\Users\\vmohan\\AppData\\Local\\Continuum\\anaconda3\\lib\\site-packages\\sklearn\\externals\\six.py:31: DeprecationWarning: The module is deprecated in version 0.21 and will be removed in version 0.23 since we've dropped support for Python 2.7. Please rely on the official version of six (https://pypi.org/project/six/).\n",
      "  \"(https://pypi.org/project/six/).\", DeprecationWarning)\n"
     ]
    }
   ],
   "source": [
    "from sklearn import datasets,tree\n",
    "import numpy as np\n",
    "import pydot\n",
    "from sklearn.externals.six import StringIO\n",
    "import graphviz\n",
    "import matplotlib.pyplot as plt\n",
    "import matplotlib.image as mpimg"
   ]
  },
  {
   "cell_type": "code",
   "execution_count": 2,
   "metadata": {},
   "outputs": [],
   "source": [
    "#Loading the iris dataset\n",
    "data=datasets.load_iris()\n",
    "\n",
    "#Selecting the features. In this case, we use all 4.\n",
    "x=data.data[:,:4]\n",
    "y=data.target\n",
    "total_no_samples=len(y)"
   ]
  },
  {
   "cell_type": "code",
   "execution_count": 3,
   "metadata": {},
   "outputs": [],
   "source": [
    "#Creating the training and test data. Using a 120-30 split of the 150 \n",
    "random_indices=np.random.permutation(150)\n",
    "\n",
    "x_train=np.array(x)[random_indices[:120]]\n",
    "y_train=np.array(y)[random_indices[:120]]\n",
    "\n",
    "x_test=np.array(x)[random_indices[120:]]\n",
    "y_test=np.array(y)[random_indices[120:]]"
   ]
  },
  {
   "cell_type": "code",
   "execution_count": 4,
   "metadata": {},
   "outputs": [],
   "source": [
    "#Changing the arrays to matrices\n",
    "x_train_fitted=np.matrix(x_train.reshape(len(x_train),4))\n",
    "y_train_fitted=np.matrix(y_train.reshape(len(y_train),1))\n",
    "\n",
    "x_test_fitted=np.matrix(x_test.reshape(len(x_test),4))\n",
    "y_test_fitted=np.matrix(y_test.reshape(len(y_test),1))"
   ]
  },
  {
   "cell_type": "code",
   "execution_count": 5,
   "metadata": {},
   "outputs": [
    {
     "data": {
      "text/plain": [
       "DecisionTreeClassifier(class_weight=None, criterion='gini', max_depth=None,\n",
       "                       max_features=None, max_leaf_nodes=None,\n",
       "                       min_impurity_decrease=0.0, min_impurity_split=None,\n",
       "                       min_samples_leaf=1, min_samples_split=2,\n",
       "                       min_weight_fraction_leaf=0.0, presort=False,\n",
       "                       random_state=None, splitter='best')"
      ]
     },
     "execution_count": 5,
     "metadata": {},
     "output_type": "execute_result"
    }
   ],
   "source": [
    "#Creating the model\n",
    "model=tree.DecisionTreeClassifier()\n",
    "model.fit(x_train_fitted,y_train_fitted)"
   ]
  },
  {
   "cell_type": "code",
   "execution_count": 6,
   "metadata": {},
   "outputs": [
    {
     "name": "stdout",
     "output_type": "stream",
     "text": [
      "[2 1 0 0 2 2 1 1 1 2 2 1 2 0 2 0 1 0 1 1 2 0 2 0 0 1 2 1 0 1]\n"
     ]
    }
   ],
   "source": [
    "#Making the model give predictions\n",
    "answers=model.predict(x_test_fitted)\n",
    "print(answers)"
   ]
  },
  {
   "cell_type": "code",
   "execution_count": 7,
   "metadata": {},
   "outputs": [
    {
     "name": "stdout",
     "output_type": "stream",
     "text": [
      "2\n"
     ]
    }
   ],
   "source": [
    "#Checking for the number of errors in the predictions by comparing with the target values for test\n",
    "error_count=0\n",
    "for i in range(0,len(y_test)):\n",
    "    if(answers[i]!=y_test[i]):\n",
    "        error_count=error_count+1\n",
    "print(error_count)"
   ]
  },
  {
   "cell_type": "code",
   "execution_count": 8,
   "metadata": {},
   "outputs": [],
   "source": [
    "dot_data=StringIO()\n",
    "#graphviz representation of model\n",
    "#parameter: model, encoders, output file(dot_data)\n",
    "tree.export_graphviz(model,out_file=dot_data,feature_names=data.feature_names,class_names=data.target_names,filled=True,rounded=True,special_characters=True)\n",
    "graph=pydot.graph_from_dot_data(dot_data.getvalue())\n",
    "#Writing the tree obtained in a pdf file.\n",
    "graph[0].write_pdf(\"iris.pdf\")"
   ]
  }
 ],
 "metadata": {
  "kernelspec": {
   "display_name": "Python 3",
   "language": "python",
   "name": "python3"
  },
  "language_info": {
   "codemirror_mode": {
    "name": "ipython",
    "version": 3
   },
   "file_extension": ".py",
   "mimetype": "text/x-python",
   "name": "python",
   "nbconvert_exporter": "python",
   "pygments_lexer": "ipython3",
   "version": "3.7.4"
  }
 },
 "nbformat": 4,
 "nbformat_minor": 2
}
